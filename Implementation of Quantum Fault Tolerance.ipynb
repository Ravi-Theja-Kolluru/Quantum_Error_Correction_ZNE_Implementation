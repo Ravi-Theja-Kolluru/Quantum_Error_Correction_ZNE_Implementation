{
 "cells": [
  {
   "cell_type": "code",
   "execution_count": null,
   "id": "7f386611",
   "metadata": {},
   "outputs": [],
   "source": []
  },
  {
   "cell_type": "code",
   "execution_count": null,
   "id": "2d89b98b",
   "metadata": {},
   "outputs": [],
   "source": []
  },
  {
   "cell_type": "code",
   "execution_count": 1,
   "id": "7ee62134",
   "metadata": {},
   "outputs": [],
   "source": [
    "# This implementation of the paper was done by Mr. Ravi Theja Kolluru in collaboration with Womanium and Classiq\n",
    "#  Development of Novel Quantum Algorithms\n",
    "#  Team Name: Raman Quantum \n",
    "#  Team Members: Ravi Theja Kolluru\n",
    "#  Team Size: 1\n",
    "\n",
    "# Paper Selected: Evidence for the utility of quantum computing before fault tolerance\n",
    "# Paper Credits: Youngseok Kim1, Andrew Eddins2, Sajant Anand3, Ken Xuan Wei1, Ewout van den Berg1, Sami Rosenblatt1, Hasan Nayfeh1, Yantao Wu3,4, Michael Zaletel3,5, Kristan Temme1 & Abhinav Kandala1\n",
    "# Reference link: https://www.nature.com/articles/s41586-023-06096-3"
   ]
  },
  {
   "cell_type": "code",
   "execution_count": 2,
   "id": "c1f9fc10",
   "metadata": {},
   "outputs": [],
   "source": [
    "# Index\n",
    "# The current document contains the following contents\n",
    "\n",
    "# Notes\n",
    "# Import Statements \n",
    "# Quantum Computer with errors for simulation\n",
    "# Simple Quantum circuit\n",
    "# Complex Quantum circuit\n",
    "# Implementation for ZNE SIMPLE\n",
    "# Circuit Execution Simple\n",
    "# Implementation for ZNE Complex\n",
    "# Circuit Execution Complex\n"
   ]
  },
  {
   "cell_type": "code",
   "execution_count": 3,
   "id": "eae1421d",
   "metadata": {},
   "outputs": [],
   "source": [
    "# Notes\n",
    "\n",
    "# Quantum Computer/Simulator: QASM simulator\n",
    "# Error Identification & Simulations: Sparse Pauli Lindbland Noise Model\n",
    "# Sample Circuit - Simple: CNOT gate\n",
    "# Complex Circuit: Hamiltoniam mentioned in paper; Quantum Computer Node Architecture mentioned below\n",
    "# Hamiltonian mentioned the paper: H = −∑JZZ + ∑hX\n",
    "# Hamiltonian is converted into trotterized evolution in the form of RZZ, RX\n",
    "# Computer Architcture Dependent. \n",
    "# Error Correction Algorithm: ZNE\n",
    "# ZNE type: local folding\n",
    "\n",
    "\n",
    "\n"
   ]
  },
  {
   "cell_type": "code",
   "execution_count": 4,
   "id": "cf07ea9e",
   "metadata": {},
   "outputs": [],
   "source": [
    "# Import statements\n",
    "from qiskit import QuantumCircuit, Aer, transpile, execute\n",
    "from qiskit.providers.aer.noise import NoiseModel, pauli_error, QuantumError\n",
    "from qiskit.providers.aer.noise.errors import depolarizing_error\n",
    "from qiskit.providers.aer.noise.errors import coherent_unitary_error\n",
    "from qiskit.circuit.library import RXGate, RZZGate\n",
    "import numpy as np\n",
    "import matplotlib.pyplot as plt\n",
    "import statsmodels.api as sm\n",
    "from sklearn.linear_model import LinearRegression\n",
    "import networkx as nx\n"
   ]
  },
  {
   "cell_type": "code",
   "execution_count": 5,
   "id": "4c3a5e1a",
   "metadata": {},
   "outputs": [],
   "source": [
    "# Quantum Computer with errors for simulation\n",
    "def quantumComputer(quantumCkt, errorFraction):\n",
    "    # Define the noise model\n",
    "    noise_model = NoiseModel()\n",
    "    errorRate = errorFraction/20\n",
    "    identityRate = 1-errorRate\n",
    "\n",
    "    # Define the sparse Pauli-Lindblad errors\n",
    "    \n",
    "    # Simple - x, z, cx errors\n",
    "    # Bit-flip error on a single qubit with probability 0.1\n",
    "    bit_flip_error = pauli_error([('X', errorRate), ('I', identityRate)])\n",
    "    # Phase-flip error on a single qubit with probability 0.1\n",
    "    phase_flip_error = pauli_error([('Z', errorRate), ('I', identityRate)])\n",
    "    # Define a two-qubit depolarizing error for the CX gate with a small probability\n",
    "    cx_error = depolarizing_error(2*errorRate/10, 2)\n",
    "    \n",
    "    # Complex - Rx & Rzz errors\n",
    "    # Define Rx error with a small rotation angle\n",
    "    theta_rx = errorRate\n",
    "    rx_error = coherent_unitary_error(RXGate(theta_rx).to_matrix())\n",
    "    # Define RZZ error with a small rotation angle\n",
    "    theta_rzz = errorRate\n",
    "    rzz_error = coherent_unitary_error(RZZGate(theta_rzz).to_matrix())\n",
    "\n",
    "    # Add errors to the noise model\n",
    "    \n",
    "    # Simple\n",
    "    noise_model.add_all_qubit_quantum_error(bit_flip_error, ['h'])\n",
    "    noise_model.add_all_qubit_quantum_error(phase_flip_error, ['z'])\n",
    "    noise_model.add_quantum_error(cx_error, 'cx', [0, 1])\n",
    "    \n",
    "    # Complex \n",
    "    # Add Rx error to the noise model for RX gates\n",
    "    noise_model.add_all_qubit_quantum_error(rx_error, ['rx'])\n",
    "    # Add RZZ error to the noise model for RZZ gates\n",
    "    noise_model.add_all_qubit_quantum_error(rzz_error, ['rzz'])\n",
    "    \n",
    "    return noise_model\n",
    "    "
   ]
  },
  {
   "cell_type": "code",
   "execution_count": 6,
   "id": "fe5844a8",
   "metadata": {},
   "outputs": [],
   "source": [
    "# Simple Quantum circuit\n",
    "def simpleQuantumCircuit(quantumCktSimple, repeat):\n",
    "#     local folding, repeating 2n+1 number of times\n",
    "    \n",
    "    for i in range(repeat):\n",
    "        quantumCktSimple.x(0)\n",
    "    for i in range(repeat):\n",
    "        quantumCktSimple.cx(0, 1)\n",
    "    return quantumCktSimple\n",
    "    \n",
    "    "
   ]
  },
  {
   "cell_type": "code",
   "execution_count": 7,
   "id": "0adfdaa9",
   "metadata": {},
   "outputs": [
    {
     "data": {
      "image/png": "[encoded data removed]",
      "text/plain": [
       "<Figure size 640x480 with 1 Axes>"
      ]
     },
     "metadata": {},
     "output_type": "display_data"
    }
   ],
   "source": [
    "# Sample Backend for the complex circuits \n",
    "\n",
    "# Create a graph object\n",
    "G = nx.Graph()\n",
    "\n",
    "# Add nodes to the graph\n",
    "G.add_nodes_from([0, 1, 2, 3, 4])\n",
    "\n",
    "# Add horizontal edges\n",
    "G.add_edges_from([(0, 1), (1, 2), (2, 3)])\n",
    "\n",
    "# Add vertical edge\n",
    "G.add_edge(2, 4)\n",
    "\n",
    "# Define positions for the nodes\n",
    "pos = {\n",
    "    0: (0, 0),  # First horizontal node\n",
    "    1: (1, 0),  # Second horizontal node\n",
    "    2: (2, 0),  # Third horizontal node (connected to vertical node)\n",
    "    3: (3, 0),  # Fourth horizontal node\n",
    "    4: (2, -1)  # Vertical node below the third horizontal node\n",
    "}\n",
    "\n",
    "# Draw the graph\n",
    "nx.draw(G, pos, with_labels=True, node_color='skyblue', edge_color='gray', node_size=500, font_size=16)\n",
    "\n",
    "# Show the plot\n",
    "plt.title(\"Quantum Computer Backend Nodes\")\n",
    "plt.show()\n"
   ]
  },
  {
   "cell_type": "code",
   "execution_count": 8,
   "id": "9f82b50a",
   "metadata": {},
   "outputs": [],
   "source": [
    "\n",
    "# Complex Quantum circuit\n",
    "\n",
    "def complexQuantumCircuit(quantumCktComplex,repeat):\n",
    "#     The plan is to apply a X gate to Node 2 and apply a CNOT gate on nodes 2(control),4. \n",
    "#     local folding, repeating 2n+1 number of times\n",
    "# #     As only 2 qubits are required in this circuit, considering the qubits ot be 0 (control) and 1 \n",
    "# #     J alias J24 has the value 1 as they are connected as per the condition given in the paper\n",
    "#     pi=3.14\n",
    "#     J = 1\n",
    "#     theta_J = 2*J*pi/4\n",
    "#     h = 1\n",
    "#     theta_h = 2*h*pi/4\n",
    "    \n",
    "    for i in range(repeat):\n",
    "        # Apply Hadamard gate to the target qubit (qubit 1)\n",
    "        quantumCktComplex.h(0)\n",
    "        quantumCktComplex.h(1)\n",
    "    for i in range(repeat):\n",
    "        quantumCktComplex.append(RZZGate(np.pi), [0, 1])\n",
    "    for i in range(repeat):\n",
    "        # Apply Hadamard gate to the target qubit (qubit 1)\n",
    "        quantumCktComplex.h(0)\n",
    "        quantumCktComplex.h(1)\n",
    "        \n",
    "    return quantumCktComplex\n",
    "    \n",
    "    \n",
    "    \n"
   ]
  },
  {
   "cell_type": "code",
   "execution_count": 9,
   "id": "d246717d",
   "metadata": {},
   "outputs": [],
   "source": [
    "# Implementation for ZNE SIMPLE\n",
    "def ZNEImplementationSimple(quantumCktSimple):\n",
    "    \n",
    "    n = 10\n",
    "    trotterSteps = np.empty(n)\n",
    "    zneProb = np.empty(n, dtype=float)\n",
    "    zneProbs = []\n",
    "    weights = np.empty(n)\n",
    "    count = 0\n",
    "    for i in range(n,0,-1):\n",
    "        weights[count] =i\n",
    "        count+=1\n",
    "        \n",
    "    \n",
    "#   Generating rate of accuracy for various error scenario expected values - data preperation\n",
    "    for i in range(n): \n",
    "        quantumCktSimple=QuantumCircuit(2)\n",
    "        repeat = 2*i+1\n",
    "        quantumCktSimple = simpleQuantumCircuit(quantumCktSimple,repeat)\n",
    "          \n",
    "        quantumCktSimple.measure_all()\n",
    "        # Calling Quantum Computer with error\n",
    "        noise_model = quantumComputer(quantumCktSimple,i)\n",
    "        # simulator circuit\n",
    "        backend = Aer.get_backend('qasm_simulator')\n",
    "        # Execute the circuit with noise\n",
    "        result = execute(quantumCktSimple, backend, noise_model=noise_model, shots=1000).result()\n",
    "        counts = result.get_counts()\n",
    "        zneProb = counts.get('11')\n",
    "        \n",
    "        trotterSteps[i] = repeat\n",
    "        trotterSteps = np.array(trotterSteps).reshape(-1,1)\n",
    "        zneProbs.append(zneProb/1000)\n",
    "\n",
    "\n",
    "\n",
    "    \n",
    "    # Add a constant (intercept term) to the independent variable\n",
    "    X = sm.add_constant(trotterSteps)\n",
    "    y = zneProbs\n",
    "    \n",
    "    print(\"X\",X)\n",
    "    print(\"y\",y)\n",
    "\n",
    "    # Fit the weighted least squares regression model\n",
    "    model = sm.WLS(y, X, weights=weights)\n",
    "    results = model.fit()\n",
    "\n",
    "    # Predict values\n",
    "    y_pred = results.predict(X)\n",
    "    zeroErrorValue = results.predict(sm.add_constant(np.array([0])))\n",
    "    \n",
    "    \n",
    "    print(results.predict(sm.add_constant(np.array([0]))))\n",
    "\n",
    "    # Plot the data points\n",
    "    plt.scatter(X[:, 1], y, s=50, alpha=0.5, label='Data Points')\n",
    "    # Plot the regression line\n",
    "    plt.plot(X[:, 1], y_pred, color='red', linestyle='--',label='Fitted Line')\n",
    "    plt.axvline(x=1, color='green',  label='Vertical Line at x=1')\n",
    "    plt.xlabel('X')\n",
    "    plt.ylabel('y')\n",
    "    plt.title('ZNE')\n",
    "    plt.legend()\n",
    "    plt.show()\n",
    "\n",
    "\n",
    "\n",
    "        \n",
    "    return zeroErrorValue\n",
    "    "
   ]
  },
  {
   "cell_type": "code",
   "execution_count": 10,
   "id": "70990830",
   "metadata": {},
   "outputs": [
    {
     "name": "stdout",
     "output_type": "stream",
     "text": [
      "X [[ 1.  1.]\n",
      " [ 1.  3.]\n",
      " [ 1.  5.]\n",
      " [ 1.  7.]\n",
      " [ 1.  9.]\n",
      " [ 1. 11.]\n",
      " [ 1. 13.]\n",
      " [ 1. 15.]\n",
      " [ 1. 17.]\n",
      " [ 1. 19.]]\n",
      "y [1.0, 0.994, 0.992, 0.977, 0.981, 0.97, 0.957, 0.946, 0.956, 0.942]\n",
      "[1.0046697]\n"
     ]
    },
    {
     "data": {
      "image/png": "[encoded data removed]",
      "text/plain": [
       "<Figure size 640x480 with 1 Axes>"
      ]
     },
     "metadata": {},
     "output_type": "display_data"
    },
    {
     "name": "stdout",
     "output_type": "stream",
     "text": [
      "Zero Error Simple :  [1.0046697]\n"
     ]
    }
   ],
   "source": [
    "\n",
    "# Circuit Execution Simple\n",
    "quantumCktSimple=QuantumCircuit(2)\n",
    "zeroErrorSimple = ZNEImplementationSimple(quantumCktSimple)\n",
    "print(\"Zero Error Simple : \",zeroErrorSimple)"
   ]
  },
  {
   "cell_type": "code",
   "execution_count": 11,
   "id": "91d87e5e",
   "metadata": {},
   "outputs": [],
   "source": [
    "# Implementation for ZNE Complex\n",
    "def ZNEImplementationComplex(quantumCktComplex):\n",
    "    \n",
    "    n = 10\n",
    "    trotterStepsComplex = np.empty(n)\n",
    "    zneProbComplex = np.empty(n, dtype=float)\n",
    "    zneProbsComplex = []\n",
    "    weights = np.empty(n)\n",
    "    count = 0\n",
    "    for i in range(n,0,-1):\n",
    "        weights[count] =i\n",
    "        count+=1\n",
    "        \n",
    "    \n",
    "#   Generating rate of accuracy for various error scenario expected values - data preperation\n",
    "    for i in range(n): \n",
    "        quantumCktComplex=QuantumCircuit(2)\n",
    "        repeat = 2*i+1\n",
    "        quantumCktComplex = complexQuantumCircuit(quantumCktComplex,repeat)\n",
    "          \n",
    "        quantumCktComplex.measure_all()\n",
    "        # Calling Quantum Computer with error\n",
    "        noise_model_Complex = quantumComputer(quantumCktComplex,i)\n",
    "        # simulator circuit\n",
    "        backend = Aer.get_backend('qasm_simulator')\n",
    "        # Execute the circuit with noise\n",
    "        resultComplex = execute(quantumCktComplex, backend, noise_model=noise_model_Complex, shots=1000).result()\n",
    "        countsComplex = resultComplex.get_counts()\n",
    "        zneProbComplex = countsComplex.get('11')\n",
    "        \n",
    "        trotterStepsComplex[i] = repeat\n",
    "        trotterStepsComplex = np.array(trotterStepsComplex).reshape(-1,1)\n",
    "        zneProbsComplex.append(zneProbComplex/1000)\n",
    "\n",
    "\n",
    "\n",
    "    \n",
    "    # Add a constant (intercept term) to the independent variable\n",
    "    X_complex = sm.add_constant(trotterStepsComplex)\n",
    "    y_complex = zneProbsComplex\n",
    "\n",
    "    # Fit the weighted least squares regression model\n",
    "    modelComplex = sm.WLS(y_complex, X_complex, weights=weights)\n",
    "    resultsComplex = modelComplex.fit()\n",
    "\n",
    "    # Predict values\n",
    "    y_pred_complex = resultsComplex.predict(X_complex)\n",
    "    zeroErrorValueComplex = resultsComplex.predict(sm.add_constant(np.array([0])))\n",
    "    \n",
    "    \n",
    "    print(resultsComplex.predict(sm.add_constant(np.array([0]))))\n",
    "\n",
    "    # Plot the data points\n",
    "    plt.scatter(X_complex[:, 1], y_pred_complex, s=50, alpha=0.5, label='Data Points')\n",
    "    # Plot the regression line\n",
    "    plt.plot(X_complex[:, 1], y_pred_complex, color='red', linestyle='--',label='Fitted Line')\n",
    "    plt.axvline(x=1, color='green',  label='Vertical Line at x=1')\n",
    "    plt.xlabel('X')\n",
    "    plt.ylabel('y')\n",
    "    plt.title('ZNE')\n",
    "    plt.legend()\n",
    "    plt.show()\n",
    "\n",
    "\n",
    "\n",
    "        \n",
    "    return zeroErrorValueComplex\n",
    "    "
   ]
  },
  {
   "cell_type": "code",
   "execution_count": 12,
   "id": "19b0448d",
   "metadata": {},
   "outputs": [
    {
     "name": "stdout",
     "output_type": "stream",
     "text": [
      "[1.04918485]\n"
     ]
    },
    {
     "data": {
      "image/png": "[encoded data removed]",
      "text/plain": [
       "<Figure size 640x480 with 1 Axes>"
      ]
     },
     "metadata": {},
     "output_type": "display_data"
    },
    {
     "name": "stdout",
     "output_type": "stream",
     "text": [
      "Zero Error Simple :  [1.04918485]\n"
     ]
    }
   ],
   "source": [
    "\n",
    "# Circuit Execution Complex\n",
    "quantumCktComplex=QuantumCircuit(2)\n",
    "zeroErrorComplex = ZNEImplementationComplex(quantumCktComplex)\n",
    "print(\"Zero Error Complex : \",zeroErrorComplex)"
   ]
  },
  {
   "cell_type": "code",
   "execution_count": 16,
   "id": "d168cc1f",
   "metadata": {},
   "outputs": [
    {
     "name": "stdout",
     "output_type": "stream",
     "text": [
      "The expected value is 1.000; The extrapolated zero error value for simple CNOT case is  [1.0046697]  ; & The extrapolated zero error value for extrapolated value is  [1.04918485]\n",
      "Simple Equation Accuracy :  [99.5330303]\n",
      "Complex Equation Accuracy :  [95.08151515]\n"
     ]
    }
   ],
   "source": [
    "# Post Processing \n",
    "print(\"The expected value is 1.000; The extrapolated zero error value for simple CNOT case is \",zeroErrorSimple,\" ; & The extrapolated zero error value for extrapolated value is \", zeroErrorComplex)\n",
    "accuracySimple = abs(zeroErrorSimple-1.000)*100\n",
    "accuracySimplePercentage = 100-accuracySimple\n",
    "accuracyComplex = abs(zeroErrorComplex-1.000)*100\n",
    "accuracyComplexPercentage = 100-accuracyComplex\n",
    "\n",
    "print(\"Simple Equation Accuracy : \",accuracySimplePercentage)\n",
    "\n",
    "print(\"Complex Equation Accuracy : \",accuracyComplexPercentage)\n",
    "\n"
   ]
  },
  {
   "cell_type": "code",
   "execution_count": null,
   "id": "7c0b74e5",
   "metadata": {},
   "outputs": [],
   "source": []
  },
  {
   "cell_type": "code",
   "execution_count": null,
   "id": "c621f126",
   "metadata": {},
   "outputs": [],
   "source": []
  }
 ],
 "metadata": {
  "kernelspec": {
   "display_name": "Python 3 (ipykernel)",
   "language": "python",
   "name": "python3"
  },
  "language_info": {
   "codemirror_mode": {
    "name": "ipython",
    "version": 3
   },
   "file_extension": ".py",
   "mimetype": "text/x-python",
   "name": "python",
   "nbconvert_exporter": "python",
   "pygments_lexer": "ipython3",
   "version": "3.10.9"
  }
 },
 "nbformat": 4,
 "nbformat_minor": 5
}
